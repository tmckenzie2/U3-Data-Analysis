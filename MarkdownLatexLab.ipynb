{
 "cells": [
  {
   "cell_type": "markdown",
   "metadata": {},
   "source": [
    "# Markdown Latex Lab\n",
    "## Task 1\n",
    "To practice with Latex, we are going to typeset some formulas from Bramer (available on Amazon [here](https://www.amazon.com/Principles-Mining-Undergraduate-Computer-Science/dp/1447173066/ref=sr_1_1?keywords=bramer+data+mining&qid=1549921541&s=gateway&sr=8-1-spell)).\n",
    "\n",
    "$$log_{2}(a \\times b) = log_{2}(a) + log_{2}(b)$$\n",
    "\n",
    "Summation notations\n",
    "$$\\sum_{i=1}^{i=m}\\sum_{j=1}^{j=n}a_{ij} = \\sum_{j=1}^{j=n}\\sum_{i=1}^{i=m}a_{ij}$$"
   ]
  },
  {
   "cell_type": "markdown",
   "metadata": {},
   "source": [
    "## Task 2\n",
    "To practice with storytelling in Jupyter Notebook, let's investigate the average of a sequence of values, $a$\n",
    "\n",
    "The average of a sequence of values, $a$ is given by the formula:\n",
    "$$\\overline{a}=\\frac{\\sum_{i=1}^{n}a_{i}}{n}$$ where $n$ is the number of values in $a$.\n",
    "\n",
    "Now, let's code up a python function that accepts a list of values, `a`, and returns the the average of `a` using the above formula:"
   ]
  },
  {
   "cell_type": "code",
   "execution_count": 1,
   "metadata": {},
   "outputs": [],
   "source": [
    "def compute_average(a):\n",
    "    return sum(a) / len(a)"
   ]
  },
  {
   "cell_type": "markdown",
   "metadata": {},
   "source": [
    "We can test our function on the list $a=1, 2,..., 99$ which should have an average of 50 (because Gauss discovered that the sum $1 + 2 +...+ n = \\frac{n(n+1)}{2}$, so $\\frac{\\frac{n(n+1)}{2}}{n} = \\frac{n+1}{2}$. Applying this result to the first 99 numbers means $\\frac{99+1}{2} = 50$"
   ]
  },
  {
   "cell_type": "code",
   "execution_count": 2,
   "metadata": {},
   "outputs": [
    {
     "name": "stdout",
     "output_type": "stream",
     "text": [
      "50.0\n"
     ]
    }
   ],
   "source": [
    "a = list(range(1, 100))\n",
    "print(compute_average(a))"
   ]
  },
  {
   "cell_type": "markdown",
   "metadata": {},
   "source": [
    "Great, our `compute_average()` function seems to be working well. Now let's plot `a` and label the average."
   ]
  },
  {
   "cell_type": "code",
   "execution_count": 3,
   "metadata": {},
   "outputs": [
    {
     "data": {
      "text/plain": [
       "Text(49.0, 75.0, 'average')"
      ]
     },
     "execution_count": 3,
     "metadata": {},
     "output_type": "execute_result"
    },
    {
     "data": {
      "image/png": "[encoded data removed]",
      "text/plain": [
       "<Figure size 432x288 with 1 Axes>"
      ]
     },
     "metadata": {
      "needs_background": "light"
     },
     "output_type": "display_data"
    }
   ],
   "source": [
    "import matplotlib.pyplot as plt\n",
    "%matplotlib inline\n",
    "\n",
    "plt.figure()\n",
    "x = list(range(len(a)))\n",
    "plt.plot(x, a)\n",
    "mean_x, mean_y = compute_average(x), compute_average(a)\n",
    "plt.plot([mean_x], [mean_y], \"r.\", markersize=20)\n",
    "ax = plt.gca()\n",
    "ax.annotate(\"average\", xy=(mean_x, mean_y), \\\n",
    "            xytext=(mean_x, mean_y + 25), \\\n",
    "            horizontalalignment=\"center\", \\\n",
    "            color=\"red\", \\\n",
    "           arrowprops=dict(facecolor=\"r\"))"
   ]
  }
 ],
 "metadata": {
  "kernelspec": {
   "display_name": "Python 3",
   "language": "python",
   "name": "python3"
  },
  "language_info": {
   "codemirror_mode": {
    "name": "ipython",
    "version": 3
   },
   "file_extension": ".py",
   "mimetype": "text/x-python",
   "name": "python",
   "nbconvert_exporter": "python",
   "pygments_lexer": "ipython3",
   "version": "3.7.1"
  }
 },
 "nbformat": 4,
 "nbformat_minor": 2
}
