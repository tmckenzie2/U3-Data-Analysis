{
 "cells": [
  {
   "cell_type": "code",
   "execution_count": 1,
   "metadata": {},
   "outputs": [
    {
     "name": "stdout",
     "output_type": "stream",
     "text": [
      "0.8097933055714841\n",
      "0.8097933055714843\n"
     ]
    },
    {
     "data": {
      "image/png": "[encoded data removed]",
      "text/plain": [
       "<Figure size 432x288 with 1 Axes>"
      ]
     },
     "metadata": {
      "needs_background": "light"
     },
     "output_type": "display_data"
    }
   ],
   "source": [
    "import numpy as np\n",
    "import matplotlib.pyplot as plt\n",
    "import scipy.stats as stats\n",
    "%matplotlib inline\n",
    "\n",
    "# we are gonna make a dataset\n",
    "# that roughly resembles y = 2x plus some noise\n",
    "x = list(range(100))\n",
    "y = [val * 2 + np.random.normal(0, 40, 1)[0] for val in x]\n",
    "#print(x)\n",
    "#print(y)\n",
    "plt.scatter(x, y)\n",
    "# recall y = mx + b\n",
    "# use least squares linear regression to fit a line to our data\n",
    "# the line has to pass through (mean_x, mean_y)\n",
    "# can calculate m using a formula that is based\n",
    "# on the distance of x and y values from the means\n",
    "mean_x = np.mean(x)\n",
    "mean_y = np.mean(y)\n",
    "m = sum([(x[i] - mean_x) * (y[i] - mean_y) for i in range(len(x))]) / \\\n",
    "        sum([(x[i] - mean_x) ** 2 for i in range(len(x))]) \n",
    "# b = y - mx\n",
    "b = mean_y - m * mean_x\n",
    "# lw is line width \n",
    "# the ; suppresses console output\n",
    "plt.plot([min(x), max(x)], [m * min(x) + b, m * max(x) + b], color=\"r\", lw=5);\n",
    "\n",
    "# see the linear regression notes for details on quantifying\n",
    "# the strength of a relationship between two variables using\n",
    "# covariance and correlation\n",
    "r = sum([(x[i] - mean_x) * (y[i] - mean_y) for i in range(len(x))]) / \\\n",
    "        np.sqrt(sum([(x[i] - mean_x) ** 2 for i in range(len(x))]) * sum([(y[i] - mean_y) ** 2 for i in range(len(x))]))\n",
    "print(r)\n",
    "# check our work\n",
    "print(stats.pearsonr(x, y)[0])\n",
    "\n",
    "# correlation is scaled covariance\n",
    "# r is [-1.0, 1.0]\n",
    "# when r is 1.0, there is a perfect correlation between x and y\n",
    "# when x increases, so does y; whenever x decreases, so does y\n",
    "# when r is -1.0, there is a perfect INVERSE correlation\n",
    "# when x increases, y decreases\n",
    "# when x decreases, y increases\n",
    "# 0.0 or close to it implies no linear relationship\n",
    "# x and y would be independent "
   ]
  },
  {
   "cell_type": "markdown",
   "metadata": {},
   "source": [
    "# This a level one header\n",
    "## This a level two header\n",
    "This is paragraph text\n",
    "You would think this would be on a newline\n",
    "\n",
    "Hard break has an extra newline in the markdown\n",
    "\n",
    "Next line\n",
    "\n",
    "Next line\n",
    "\n",
    "Soft break has two extra spaces at the end of a line in markdown  \n",
    "Next  line  \n",
    "Next line  "
   ]
  },
  {
   "cell_type": "markdown",
   "metadata": {},
   "source": [
    "## Formatting\n",
    "We can *italicize*, we can **bold**, we can ~~strikethrough~~, we can block quote\n",
    ">This is\n",
    "a block quote\n",
    "it is on multiple lines\n",
    "\n",
    "We can have code show up in a different font\n",
    "\n",
    "Inline: `import matplotlib.pyplot as plt`\n",
    "\n",
    "Code block:\n",
    "\n",
    "```\n",
    "for i in range(len(x)):\n",
    "    print(i, x[i])\n",
    "```\n",
    "\n",
    "We can have syntax highlighting:\n",
    "```python\n",
    "for i in range(len(x)):\n",
    "    print(i, x[i])\n",
    "```"
   ]
  },
  {
   "cell_type": "markdown",
   "metadata": {},
   "source": [
    "## Lists\n",
    "Unordered list\n",
    "* Item 1\n",
    "* Item 2\n",
    "\n",
    "Ordered list\n",
    "1. Item 1\n",
    "1. Item 2\n",
    "\n",
    "We can mix and nest\n",
    "1. Item 1\n",
    "    * Sub item 1\n",
    "    * Sub item 2\n",
    "1. Item 2\n",
    "    1. Sub item 3"
   ]
  },
  {
   "cell_type": "markdown",
   "metadata": {},
   "source": [
    "## Links\n",
    "I recommend following www.markdowntutorial.com for extra practice\n",
    "\n",
    "This [site](www.markdowntutorial.com) to be a link"
   ]
  },
  {
   "cell_type": "markdown",
   "metadata": {},
   "source": [
    "## Images\n",
    "`![alt text](url)`\n",
    "\n",
    "![I heart markdown](https://www.mcdwayne.com/wp-content/uploads/2018/05/I-love-markdown-syntax-language.png)\n",
    "\n",
    "<img src=\"https://www.mcdwayne.com/wp-content/uploads/2018/05/I-love-markdown-syntax-language.png\" width=\"300\">"
   ]
  },
  {
   "cell_type": "markdown",
   "metadata": {},
   "source": [
    "## Tables\n",
    "|CarName|ModelYear|MSRP|\n",
    "|-|-|-|\n",
    "|ford pinto|71|3025|\n",
    "|ford pinto|71|3025|\n",
    "|ford pinto|71|3025|\n",
    "|ford pinto|71|3025|"
   ]
  },
  {
   "cell_type": "markdown",
   "metadata": {},
   "source": [
    "## Latex\n",
    "Latex is a mathematical typesetting markup language\n",
    "\n",
    "Use dollar signs to enter \"math mode\" in our markdown cells\n",
    "\n",
    "Inline math mode $y = mx + b$\n",
    "\n",
    "Block/centered math mode $$y = mx + b$$\n",
    "\n",
    "Subscript: $x_i$ $x_{i + 1}$\n",
    "\n",
    "Superscript: $x^i$ $x^{i + 1}$\n",
    "\n",
    "Symbols over characters: $\\overline{x + y}$ $\\widehat{x + y}$ \n",
    "\n",
    "Special symbols: $\\sigma \\Sigma \\pi \\epsilon \\forall$\n",
    "\n",
    "Fractions: $\\frac{1}{x + y + z}$\n",
    "\n",
    "Square root: $\\sqrt{x + y}$\n",
    "\n",
    "Summation notation: $\\sum_{i = 1}^{n} i x_{i}$\n",
    "\n"
   ]
  }
 ],
 "metadata": {
  "kernelspec": {
   "display_name": "Python 3",
   "language": "python",
   "name": "python3"
  },
  "language_info": {
   "codemirror_mode": {
    "name": "ipython",
    "version": 3
   },
   "file_extension": ".py",
   "mimetype": "text/x-python",
   "name": "python",
   "nbconvert_exporter": "python",
   "pygments_lexer": "ipython3",
   "version": "3.7.1"
  }
 },
 "nbformat": 4,
 "nbformat_minor": 2
}
